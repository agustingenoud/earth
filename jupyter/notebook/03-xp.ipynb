{
 "cells": [
  {
   "cell_type": "code",
   "execution_count": 1,
   "metadata": {},
   "outputs": [],
   "source": [
    "import findspark\n",
    "findspark.add_jars('/app/postgresql-42.1.4.jar')\n",
    "findspark.init()"
   ]
  },
  {
   "cell_type": "code",
   "execution_count": 2,
   "metadata": {},
   "outputs": [],
   "source": [
    "from pyspark.sql import SparkSession\n",
    "spark = (\n",
    "    SparkSession.builder\n",
    "    .appName(\"argentinaETL\")\n",
    "    .config(\"spark.driver.memory\", \"512m\")\n",
    "    .config(\"spark.driver.cores\", \"1\")\n",
    "    .config(\"spark.executor.memory\", \"512m\")\n",
    "    .config(\"spark.executor.cores\", \"1\")\n",
    "    .config(\"spark.sql.shuffle.partitions\", \"2\")\n",
    "    .getOrCreate()\n",
    ")"
   ]
  },
  {
   "cell_type": "code",
   "execution_count": 3,
   "metadata": {},
   "outputs": [],
   "source": [
    "from pyspark.sql.functions import *;\n",
    "from datetime import datetime, date"
   ]
  },
  {
   "cell_type": "code",
   "execution_count": 4,
   "metadata": {},
   "outputs": [],
   "source": [
    "from pyspark.sql.types import *\n",
    "\n",
    "schema = (\n",
    "StructType().\n",
    "    add(\"ID_Provincia\", IntegerType()).\n",
    "    add(\"Provincia\", StringType()).\n",
    "    add(\"ID_Departamento\", IntegerType()).\n",
    "    add(\"Departamento\", StringType()).\n",
    "    add(\"Id_Cultivo\", IntegerType()).\n",
    "    add(\"Cultivo\", StringType()).\n",
    "    add(\"ID_Campania\", IntegerType()).\n",
    "    add(\"Campania\", StringType()).\n",
    "    add(\"Ha_Sembrada\", DecimalType()).\n",
    "    add(\"Ha_Cosechada\", DecimalType()).\n",
    "    add(\"Produccion_Tn\", DecimalType()).\n",
    "    add(\"Rendimiento_KgxHa\", DecimalType())\n",
    ")"
   ]
  },
  {
   "cell_type": "code",
   "execution_count": 5,
   "metadata": {},
   "outputs": [],
   "source": [
    "df = (\n",
    "    spark.read.\n",
    "    option(\"delimiter\", ';').\n",
    "    csv(\"/dataset/argentina-datos/Estimaciones/Estimaciones.csv\",\n",
    "        schema=schema,\n",
    "        header=True,\n",
    "        ignoreLeadingWhiteSpace=True,\n",
    "        ignoreTrailingWhiteSpace=True,\n",
    "        nullValue='NA')\n",
    "     )"
   ]
  },
  {
   "cell_type": "code",
   "execution_count": 6,
   "metadata": {},
   "outputs": [],
   "source": [
    "df = df.withColumnRenamed(\"ID_Provincia\", \"id_provincia\") \\\n",
    ".withColumnRenamed(\"Provincia\", \"provincia\") \\\n",
    ".withColumnRenamed(\"ID_Departamento\", \"id_departamento\") \\\n",
    ".withColumnRenamed(\"Departamento\", \"departamento\") \\\n",
    ".withColumnRenamed(\"ID_Cultivo\", \"id_cultivo\") \\\n",
    ".withColumnRenamed(\"Cultivo\", \"cultivo\") \\\n",
    ".withColumnRenamed(\"ID_Campania\", \"id_campania\") \\\n",
    ".withColumnRenamed(\"Campania\", \"campania\") \\\n",
    ".withColumnRenamed(\"Ha_Sembrada\", \"ha_sembrada\") \\\n",
    ".withColumnRenamed(\"Ha_Cosechada\", \"ha_cosechada\") \\\n",
    ".withColumnRenamed(\"Produccion_Tn\", \"produccion_tn\") \\\n",
    ".withColumnRenamed(\"Rendimiento_KgxHa\", \"rendimiento_kgha\")\n",
    "\n"
   ]
  },
  {
   "cell_type": "code",
   "execution_count": 12,
   "metadata": {},
   "outputs": [
    {
     "name": "stdout",
     "output_type": "stream",
     "text": [
      "+-------+-----------------+\n",
      "|summary|      ha_sembrada|\n",
      "+-------+-----------------+\n",
      "|  count|           148162|\n",
      "|   mean|       11985.8442|\n",
      "| stddev|35267.86689359856|\n",
      "|    min|                0|\n",
      "|    max|           894613|\n",
      "+-------+-----------------+\n",
      "\n",
      "+-------+----------------+\n",
      "|summary|    ha_cosechada|\n",
      "+-------+----------------+\n",
      "|  count|          148162|\n",
      "|   mean|      10488.4912|\n",
      "| stddev|33845.4010526086|\n",
      "|    min|               0|\n",
      "|    max|          883613|\n",
      "+-------+----------------+\n",
      "\n",
      "+-------+------------------+\n",
      "|summary|     produccion_tn|\n",
      "+-------+------------------+\n",
      "|  count|            148162|\n",
      "|   mean|        32573.3768|\n",
      "| stddev|126465.23307389554|\n",
      "|    min|                 0|\n",
      "|    max|           8620000|\n",
      "+-------+------------------+\n",
      "\n",
      "+-------+-----------------+\n",
      "|summary| rendimiento_kgha|\n",
      "+-------+-----------------+\n",
      "|  count|           148162|\n",
      "|   mean|        3525.9199|\n",
      "| stddev|5670.321724013817|\n",
      "|    min|                0|\n",
      "|    max|           300000|\n",
      "+-------+-----------------+\n",
      "\n"
     ]
    }
   ],
   "source": [
    "df.describe([\"ha_sembrada\"]).show();\n",
    "df.describe([\"ha_cosechada\"]).show();\n",
    "df.describe([\"produccion_tn\"]).show();\n",
    "df.describe([\"rendimiento_kgha\"]).show();"
   ]
  },
  {
   "cell_type": "code",
   "execution_count": 13,
   "metadata": {},
   "outputs": [
    {
     "name": "stdout",
     "output_type": "stream",
     "text": [
      "+-------+------------------+\n",
      "|summary|      id_provincia|\n",
      "+-------+------------------+\n",
      "|  count|            148162|\n",
      "|   mean| 34.04365491826514|\n",
      "| stddev|29.346447617326437|\n",
      "|    min|                 6|\n",
      "|    max|                94|\n",
      "+-------+------------------+\n",
      "\n",
      "+-------+------------+\n",
      "|summary|   provincia|\n",
      "+-------+------------+\n",
      "|  count|      148162|\n",
      "|   mean|        null|\n",
      "| stddev|        null|\n",
      "|    min|BUENOS AIRES|\n",
      "|    max|     TUCUMAN|\n",
      "+-------+------------+\n",
      "\n",
      "+-------+------------------+\n",
      "|summary|   id_departamento|\n",
      "+-------+------------------+\n",
      "|  count|            148162|\n",
      "|   mean|  191.189711261997|\n",
      "| stddev|228.58633087604437|\n",
      "|    min|                 0|\n",
      "|    max|               882|\n",
      "+-------+------------------+\n",
      "\n",
      "+-------+------------+\n",
      "|summary|departamento|\n",
      "+-------+------------+\n",
      "|  count|      148162|\n",
      "|   mean|        null|\n",
      "| stddev|        null|\n",
      "|    min|   1 DE MAYO|\n",
      "|    max|       ZONDA|\n",
      "+-------+------------+\n",
      "\n",
      "+-------+------------------+\n",
      "|summary|        id_cultivo|\n",
      "+-------+------------------+\n",
      "|  count|            148162|\n",
      "|   mean| 19.53716202535063|\n",
      "| stddev|10.221678793330137|\n",
      "|    min|                 1|\n",
      "|    max|                40|\n",
      "+-------+------------------+\n",
      "\n",
      "+-------+----------+\n",
      "|summary|   cultivo|\n",
      "+-------+----------+\n",
      "|  count|    148162|\n",
      "|   mean|      null|\n",
      "| stddev|      null|\n",
      "|    min|       Ajo|\n",
      "|    max|Yerba mate|\n",
      "+-------+----------+\n",
      "\n",
      "+-------+------------------+\n",
      "|summary|       id_campania|\n",
      "+-------+------------------+\n",
      "|  count|            148162|\n",
      "|   mean|23.067493689340047|\n",
      "| stddev| 15.48931848739094|\n",
      "|    min|                 1|\n",
      "|    max|                52|\n",
      "+-------+------------------+\n",
      "\n",
      "+-------+--------+\n",
      "|summary|campania|\n",
      "+-------+--------+\n",
      "|  count|  148162|\n",
      "|   mean|    null|\n",
      "| stddev|    null|\n",
      "|    min| 1969/70|\n",
      "|    max| 2020/21|\n",
      "+-------+--------+\n",
      "\n",
      "+-------+-----------------+\n",
      "|summary|      ha_sembrada|\n",
      "+-------+-----------------+\n",
      "|  count|           148162|\n",
      "|   mean|       11985.8442|\n",
      "| stddev|35267.86689359856|\n",
      "|    min|                0|\n",
      "|    max|           894613|\n",
      "+-------+-----------------+\n",
      "\n",
      "+-------+----------------+\n",
      "|summary|    ha_cosechada|\n",
      "+-------+----------------+\n",
      "|  count|          148162|\n",
      "|   mean|      10488.4912|\n",
      "| stddev|33845.4010526086|\n",
      "|    min|               0|\n",
      "|    max|          883613|\n",
      "+-------+----------------+\n",
      "\n",
      "+-------+------------------+\n",
      "|summary|     produccion_tn|\n",
      "+-------+------------------+\n",
      "|  count|            148162|\n",
      "|   mean|        32573.3768|\n",
      "| stddev|126465.23307389554|\n",
      "|    min|                 0|\n",
      "|    max|           8620000|\n",
      "+-------+------------------+\n",
      "\n",
      "+-------+-----------------+\n",
      "|summary| rendimiento_kgha|\n",
      "+-------+-----------------+\n",
      "|  count|           148162|\n",
      "|   mean|        3525.9199|\n",
      "| stddev|5670.321724013817|\n",
      "|    min|                0|\n",
      "|    max|           300000|\n",
      "+-------+-----------------+\n",
      "\n"
     ]
    }
   ],
   "source": [
    "for col in df.columns:\n",
    "    df.describe([col]).show()"
   ]
  },
  {
   "cell_type": "code",
   "execution_count": 14,
   "metadata": {},
   "outputs": [
    {
     "name": "stdout",
     "output_type": "stream",
     "text": [
      "+--------------------+\n",
      "|        departamento|\n",
      "+--------------------+\n",
      "|         SIN DEFINIR|\n",
      "|          TAFI VIEJO|\n",
      "|         YERBA BUENA|\n",
      "|          25 DE MAYO|\n",
      "|       ADOLFO ALSINA|\n",
      "|ADOLFO GONZALES C...|\n",
      "|             ALBERTI|\n",
      "|                AZUL|\n",
      "|            BARADERO|\n",
      "|       BENITO JUAREZ|\n",
      "|             CAMPANA|\n",
      "|            CANUELAS|\n",
      "|   CAPITAN SARMIENTO|\n",
      "|     CARMEN DE ARECO|\n",
      "|           CHASCOMUS|\n",
      "|               COLON|\n",
      "|     CORONEL DORREGO|\n",
      "|    CORONEL PRINGLES|\n",
      "|      CORONEL SUAREZ|\n",
      "|            DAIREAUX|\n",
      "+--------------------+\n",
      "only showing top 20 rows\n",
      "\n"
     ]
    }
   ],
   "source": [
    "df.select('departamento').distinct().show()"
   ]
  },
  {
   "cell_type": "code",
   "execution_count": 15,
   "metadata": {},
   "outputs": [],
   "source": [
    "from pyspark.sql.functions import when, lit\n",
    "\n",
    "df = df.withColumn('cultivo', when(df['cultivo']==\"Ca�a de az�car\",lit(\"Cania de azucar\")).otherwise(df['Cultivo']));\n",
    "df = df.withColumn('cultivo', when(df['cultivo']==\"T�\", lit(\"Te\")).otherwise(df['Cultivo']));\n",
    "df = df.withColumn('cultivo', when(df['cultivo']==\"Algod�n\", lit(\"Algodon\")).otherwise(df['Cultivo']));\n",
    "df = df.withColumn('cultivo', when(df['cultivo']==\"C�rtamo\", lit(\"Cartamo\")).otherwise(df['Cultivo']));\n",
    "df = df.withColumn('cultivo', when(df['cultivo']==\"Man�\", lit(\"Mani\")).otherwise(df['Cultivo']));\n",
    "df = df.withColumn('cultivo', when(df['cultivo']==\"Ma�z\", lit(\"Maiz\")).otherwise(df['Cultivo']));\n"
   ]
  },
  {
   "cell_type": "code",
   "execution_count": 16,
   "metadata": {},
   "outputs": [
    {
     "name": "stdout",
     "output_type": "stream",
     "text": [
      "+----------------+\n",
      "|         cultivo|\n",
      "+----------------+\n",
      "|        Soja 1ra|\n",
      "|      Soja total|\n",
      "|              Te|\n",
      "|             Ajo|\n",
      "|           Arroz|\n",
      "|          Arveja|\n",
      "| Cania de azucar|\n",
      "|Cebada cervecera|\n",
      "|Cebada forrajera|\n",
      "|   Cebolla total|\n",
      "|        Garbanzo|\n",
      "|         Girasol|\n",
      "|          Jojoba|\n",
      "|         Lenteja|\n",
      "|            Maiz|\n",
      "|            Mani|\n",
      "|      Papa total|\n",
      "|        Soja 2da|\n",
      "|           Sorgo|\n",
      "|   Trigo candeal|\n",
      "+----------------+\n",
      "only showing top 20 rows\n",
      "\n"
     ]
    }
   ],
   "source": [
    "df.select('cultivo').distinct().show()"
   ]
  },
  {
   "cell_type": "code",
   "execution_count": 17,
   "metadata": {},
   "outputs": [
    {
     "name": "stdout",
     "output_type": "stream",
     "text": [
      "id_provincia \t Nulls:  0\n",
      "provincia \t Nulls:  0\n",
      "id_departamento \t Nulls:  0\n",
      "departamento \t Nulls:  0\n",
      "id_cultivo \t Nulls:  0\n",
      "cultivo \t Nulls:  0\n",
      "id_campania \t Nulls:  0\n",
      "campania \t Nulls:  0\n",
      "ha_sembrada \t Nulls:  0\n",
      "ha_cosechada \t Nulls:  0\n",
      "produccion_tn \t Nulls:  0\n",
      "rendimiento_kgha \t Nulls:  0\n"
     ]
    }
   ],
   "source": [
    "for col in df.columns:\n",
    "    print(col, \"\\t\", \"Nulls: \", df.filter(df[col]==\"NA\").count())"
   ]
  },
  {
   "cell_type": "code",
   "execution_count": 18,
   "metadata": {},
   "outputs": [],
   "source": [
    "df = df.withColumn('anio', split(df['campania'], '/').getItem(0));"
   ]
  },
  {
   "cell_type": "code",
   "execution_count": 19,
   "metadata": {},
   "outputs": [],
   "source": [
    "df = df.withColumn('pre', lit(\"-01-01\"))"
   ]
  },
  {
   "cell_type": "code",
   "execution_count": 20,
   "metadata": {},
   "outputs": [],
   "source": [
    "df = df.withColumn('fecha',to_date(concat(df['anio'], df['pre']), 'yyyy-mm-dd'))"
   ]
  },
  {
   "cell_type": "code",
   "execution_count": 21,
   "metadata": {},
   "outputs": [],
   "source": [
    "df = df.drop('anio', 'pre')"
   ]
  },
  {
   "cell_type": "code",
   "execution_count": 22,
   "metadata": {},
   "outputs": [
    {
     "name": "stdout",
     "output_type": "stream",
     "text": [
      "root\n",
      " |-- id_provincia: integer (nullable = true)\n",
      " |-- provincia: string (nullable = true)\n",
      " |-- id_departamento: integer (nullable = true)\n",
      " |-- departamento: string (nullable = true)\n",
      " |-- id_cultivo: integer (nullable = true)\n",
      " |-- cultivo: string (nullable = true)\n",
      " |-- id_campania: integer (nullable = true)\n",
      " |-- campania: string (nullable = true)\n",
      " |-- ha_sembrada: decimal(10,0) (nullable = true)\n",
      " |-- ha_cosechada: decimal(10,0) (nullable = true)\n",
      " |-- produccion_tn: decimal(10,0) (nullable = true)\n",
      " |-- rendimiento_kgha: decimal(10,0) (nullable = true)\n",
      " |-- fecha: date (nullable = true)\n",
      "\n"
     ]
    }
   ],
   "source": [
    "df.printSchema()"
   ]
  },
  {
   "cell_type": "code",
   "execution_count": 23,
   "metadata": {},
   "outputs": [
    {
     "name": "stdout",
     "output_type": "stream",
     "text": [
      "+------------+------------+---------------+------------+----------+-------+-----------+--------+-----------+------------+-------------+----------------+----------+\n",
      "|id_provincia|   provincia|id_departamento|departamento|id_cultivo|cultivo|id_campania|campania|ha_sembrada|ha_cosechada|produccion_tn|rendimiento_kgha|     fecha|\n",
      "+------------+------------+---------------+------------+----------+-------+-----------+--------+-----------+------------+-------------+----------------+----------+\n",
      "|           6|BUENOS AIRES|            854|  25 DE MAYO|         1|    Ajo|          1| 1969/70|          3|           3|           10|            3333|1969-01-01|\n",
      "|           6|BUENOS AIRES|            854|  25 DE MAYO|         1|    Ajo|          2| 1970/71|          1|           1|            3|            3000|1970-01-01|\n",
      "+------------+------------+---------------+------------+----------+-------+-----------+--------+-----------+------------+-------------+----------------+----------+\n",
      "only showing top 2 rows\n",
      "\n"
     ]
    }
   ],
   "source": [
    "df.show(2)"
   ]
  },
  {
   "cell_type": "code",
   "execution_count": null,
   "metadata": {},
   "outputs": [],
   "source": [
    "### Write to postgres"
   ]
  },
  {
   "cell_type": "code",
   "execution_count": 24,
   "metadata": {},
   "outputs": [],
   "source": [
    "df \\\n",
    "    .write \\\n",
    "    .format(\"jdbc\") \\\n",
    "    .option(\"url\", \"jdbc:postgresql://postgres/agricultura\") \\\n",
    "    .option(\"dbtable\", \"agricultura.argentina_datos\") \\\n",
    "    .option(\"user\", \"agricultura\") \\\n",
    "    .option(\"password\", \"p4ssW0rdP4r4Agr1cultur4\") \\\n",
    "    .option(\"driver\", \"org.postgresql.Driver\") \\\n",
    "    .mode('overwrite') \\\n",
    "    .save()"
   ]
  },
  {
   "cell_type": "code",
   "execution_count": 25,
   "metadata": {},
   "outputs": [],
   "source": [
    "spark.stop()"
   ]
  }
 ],
 "metadata": {
  "kernelspec": {
   "display_name": "Python 3",
   "language": "python",
   "name": "python3"
  },
  "language_info": {
   "codemirror_mode": {
    "name": "ipython",
    "version": 3
   },
   "file_extension": ".py",
   "mimetype": "text/x-python",
   "name": "python",
   "nbconvert_exporter": "python",
   "pygments_lexer": "ipython3",
   "version": "3.7.3"
  }
 },
 "nbformat": 4,
 "nbformat_minor": 2
}
