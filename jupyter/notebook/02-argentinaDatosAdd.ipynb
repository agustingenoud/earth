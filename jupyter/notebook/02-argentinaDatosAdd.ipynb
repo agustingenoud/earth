{
 "cells": [
  {
   "cell_type": "code",
   "execution_count": 1,
   "metadata": {},
   "outputs": [],
   "source": [
    "import findspark\n",
    "findspark.add_jars('/app/postgresql-42.1.4.jar')\n",
    "findspark.init()"
   ]
  },
  {
   "cell_type": "code",
   "execution_count": 2,
   "metadata": {},
   "outputs": [],
   "source": [
    "from pyspark.sql import SparkSession\n",
    "spark = (\n",
    "    SparkSession.builder\n",
    "    .appName(\"argentinaDatosAdd\")\n",
    "    .config(\"spark.driver.memory\", \"512m\")\n",
    "    .config(\"spark.driver.cores\", \"1\")\n",
    "    .config(\"spark.executor.memory\", \"512m\")\n",
    "    .config(\"spark.executor.cores\", \"1\")\n",
    "    .config(\"spark.sql.shuffle.partitions\", \"2\")\n",
    "    .getOrCreate()\n",
    ")"
   ]
  },
  {
   "cell_type": "code",
   "execution_count": 3,
   "metadata": {},
   "outputs": [],
   "source": [
    "from pyspark.sql.functions import *"
   ]
  },
  {
   "cell_type": "code",
   "execution_count": 4,
   "metadata": {},
   "outputs": [],
   "source": [
    "pas = 'p4ssW0rdP4r4Agr1cultur4'"
   ]
  },
  {
   "cell_type": "code",
   "execution_count": 5,
   "metadata": {},
   "outputs": [],
   "source": [
    "df = spark.read.format(\"jdbc\") \\\n",
    ".option(\"url\", \"jdbc:postgresql://postgres/agricultura\") \\\n",
    ".option(\"driver\", \"org.postgresql.Driver\") \\\n",
    ".option(\"dbtable\", \"agricultura.argentina_datos\") \\\n",
    ".option(\"user\", \"agricultura\") \\\n",
    ".option(\"password\", pas) \\\n",
    ".load()"
   ]
  },
  {
   "cell_type": "code",
   "execution_count": 6,
   "metadata": {},
   "outputs": [],
   "source": [
    "provRindeCultivos = (\n",
    "df.groupBy('provincia', 'cultivo', 'campania', 'fecha')\n",
    ".agg(avg('rendimiento_kgha').alias('rinde_kxha'))\n",
    ".orderBy(desc('rinde_kxha'))\n",
    ")"
   ]
  },
  {
   "cell_type": "code",
   "execution_count": 7,
   "metadata": {},
   "outputs": [],
   "source": [
    "provRindeCultivos \\\n",
    "    .write \\\n",
    "    .format(\"jdbc\") \\\n",
    "    .option(\"url\", \"jdbc:postgresql://postgres/agricultura\") \\\n",
    "    .option(\"dbtable\", \"agricultura.prov_rinde\") \\\n",
    "    .option(\"user\", \"agricultura\") \\\n",
    "    .option(\"password\", pas) \\\n",
    "    .option(\"driver\", \"org.postgresql.Driver\") \\\n",
    "    .mode('overwrite') \\\n",
    "    .save()"
   ]
  },
  {
   "cell_type": "code",
   "execution_count": 8,
   "metadata": {},
   "outputs": [],
   "source": [
    "sojaBArinde = (\n",
    "df.filter(df['provincia'] == \"BUENOS AIRES\")\n",
    ".filter(df['cultivo'] == 'Soja total')\n",
    ".select('provincia','rendimiento_kgha', 'campania', 'fecha')\n",
    ")"
   ]
  },
  {
   "cell_type": "code",
   "execution_count": 9,
   "metadata": {},
   "outputs": [],
   "source": [
    "sojaBArinde \\\n",
    "    .write \\\n",
    "    .format(\"jdbc\") \\\n",
    "    .option(\"url\", \"jdbc:postgresql://postgres/agricultura\") \\\n",
    "    .option(\"dbtable\", \"agricultura.soja_ba_rinde\") \\\n",
    "    .option(\"user\", \"agricultura\") \\\n",
    "    .option(\"password\", pas) \\\n",
    "    .option(\"driver\", \"org.postgresql.Driver\") \\\n",
    "    .mode('overwrite') \\\n",
    "    .save()"
   ]
  },
  {
   "cell_type": "code",
   "execution_count": 10,
   "metadata": {},
   "outputs": [],
   "source": [
    "cultivosProvincias = (\n",
    "df.withColumn(\"tn_cosechadas\",(col(\"ha_cosechada\") * col('rendimiento_kgha'))/1000)\n",
    ".groupBy('cultivo', 'provincia', 'fecha')\n",
    ".agg(sum('tn_cosechadas').alias('tn_total'))\n",
    ".orderBy(desc('tn_total'))\n",
    ")"
   ]
  },
  {
   "cell_type": "code",
   "execution_count": 11,
   "metadata": {},
   "outputs": [],
   "source": [
    "cultivosProvincias \\\n",
    ".write \\\n",
    ".format('jdbc') \\\n",
    ".option('url', 'jdbc:postgresql://postgres/agricultura') \\\n",
    ".option('dbtable', 'agricultura.cultivos_provincias') \\\n",
    ".option('user', 'agricultura') \\\n",
    ".option('password', pas) \\\n",
    ".option('driver', 'org.postgresql.Driver') \\\n",
    ".mode('overwrite') \\\n",
    ".save()"
   ]
  },
  {
   "cell_type": "code",
   "execution_count": null,
   "metadata": {},
   "outputs": [],
   "source": []
  },
  {
   "cell_type": "code",
   "execution_count": 12,
   "metadata": {},
   "outputs": [],
   "source": [
    "spark.stop()"
   ]
  },
  {
   "cell_type": "code",
   "execution_count": null,
   "metadata": {},
   "outputs": [],
   "source": []
  }
 ],
 "metadata": {
  "kernelspec": {
   "display_name": "Python 3",
   "language": "python",
   "name": "python3"
  },
  "language_info": {
   "codemirror_mode": {
    "name": "ipython",
    "version": 3
   },
   "file_extension": ".py",
   "mimetype": "text/x-python",
   "name": "python",
   "nbconvert_exporter": "python",
   "pygments_lexer": "ipython3",
   "version": "3.7.3"
  }
 },
 "nbformat": 4,
 "nbformat_minor": 2
}
